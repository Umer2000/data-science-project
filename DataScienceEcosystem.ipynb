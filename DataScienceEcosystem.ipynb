{
 "cells": [
  {
   "cell_type": "markdown",
   "id": "8a9067d8-d5bf-4829-87f6-056985fed814",
   "metadata": {},
   "source": [
    "<h1>Data Science Tools and Ecosystem<h1>"
   ]
  },
  {
   "cell_type": "markdown",
   "id": "3934ea09-9884-44df-952d-8f9be0edef44",
   "metadata": {},
   "source": [
    "In this notebook, Data Science Tools and Ecosystem are summarized."
   ]
  },
  {
   "cell_type": "markdown",
   "id": "b7bedd74-1228-450c-b680-ccf29f34e96b",
   "metadata": {},
   "source": [
    "**Objectives:**\n",
    "\n",
    "- List popular languages for Data Science  \n",
    "- Identify commonly used libraries in Data Science  \n",
    "- Understand data analysis and visualization techniques  \n",
    "- Explore basic machine learning concepts  \n",
    "- Learn about tools used in Data Science  \n"
   ]
  },
  {
   "cell_type": "markdown",
   "id": "e1ac36c8-c968-498a-be0f-f973d3e3339d",
   "metadata": {},
   "source": [
    "Some of the popular languages that Data Scientists use are:"
   ]
  },
  {
   "cell_type": "markdown",
   "id": "886aed60-8e9f-4f03-8d72-fcaf319ea103",
   "metadata": {},
   "source": [
    "1. Python\n",
    "2. R\n",
    "3. SQL"
   ]
  },
  {
   "cell_type": "markdown",
   "id": "8c72a531-5b71-4587-8227-073ab066d991",
   "metadata": {},
   "source": [
    "Some of the commonly used libraries used by Data Scientists include:\n",
    "1. Pandas\n",
    "2. Numpy\n",
    "3. Matplotlib\n",
    "4. Seaborn\n"
   ]
  },
  {
   "cell_type": "markdown",
   "id": "4ba9be1a-0598-4494-a490-86532e7c0bbe",
   "metadata": {},
   "source": [
    "| Data Science Tools |\n",
    "|---------|\n",
    "|1.Jupyter Notebook|\n",
    "|2.Google Colab |\n",
    "|3.Vs Code|\n"
   ]
  },
  {
   "cell_type": "markdown",
   "id": "af46010b-0c6e-468b-a345-a0014e6dc539",
   "metadata": {},
   "source": [
    "<h3>Below are a few examples of evaluating arithmetic expressions in Python<h3>"
   ]
  },
  {
   "cell_type": "markdown",
   "id": "c16158a1-eaad-499d-9173-4606001a7b48",
   "metadata": {},
   "source": [
    "# This is a simple arithmetic expression to multiply then add integers\n",
    "\n"
   ]
  },
  {
   "cell_type": "code",
   "execution_count": 3,
   "id": "c5430f15-ace4-45a5-aa35-191b5993af9a",
   "metadata": {},
   "outputs": [
    {
     "data": {
      "text/plain": [
       "17"
      ]
     },
     "execution_count": 3,
     "metadata": {},
     "output_type": "execute_result"
    }
   ],
   "source": [
    "(3 * 4) + 5"
   ]
  },
  {
   "cell_type": "markdown",
   "id": "058ef124-59f8-4f32-8bab-139de1cb115b",
   "metadata": {},
   "source": [
    "# This will convert 200 minutes to hours by diving by 60"
   ]
  },
  {
   "cell_type": "code",
   "execution_count": 4,
   "id": "d7b86e4c-eb9d-4675-8135-4b9100a31baa",
   "metadata": {},
   "outputs": [
    {
     "data": {
      "text/plain": [
       "3.3333333333333335"
      ]
     },
     "execution_count": 4,
     "metadata": {},
     "output_type": "execute_result"
    }
   ],
   "source": [
    "200/60"
   ]
  },
  {
   "cell_type": "markdown",
   "id": "3aa6e6b8-de9b-4497-a417-cb48cc67ec05",
   "metadata": {},
   "source": [
    "<h2>Author<h2>\n",
    "Umer Anis\n"
   ]
  },
  {
   "cell_type": "code",
   "execution_count": null,
   "id": "a0aa856a-9454-46b4-ba80-22a26b225795",
   "metadata": {
    "editable": true,
    "slideshow": {
     "slide_type": ""
    },
    "tags": []
   },
   "outputs": [],
   "source": []
  }
 ],
 "metadata": {
  "kernelspec": {
   "display_name": "Python 3 (ipykernel)",
   "language": "python",
   "name": "python3"
  },
  "language_info": {
   "codemirror_mode": {
    "name": "ipython",
    "version": 3
   },
   "file_extension": ".py",
   "mimetype": "text/x-python",
   "name": "python",
   "nbconvert_exporter": "python",
   "pygments_lexer": "ipython3",
   "version": "3.12.8"
  }
 },
 "nbformat": 4,
 "nbformat_minor": 5
}
