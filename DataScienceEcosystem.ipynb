{
 "cells": [
  {
   "cell_type": "markdown",
   "id": "8a9067d8-d5bf-4829-87f6-056985fed814",
   "metadata": {},
   "source": [
    "<h1>Data Science Tools and Ecosystem<h1>"
   ]
  },
  {
   "cell_type": "markdown",
   "id": "3934ea09-9884-44df-952d-8f9be0edef44",
   "metadata": {},
   "source": [
    "In this notebook, Data Science Tools and Ecosystem are summarized."
   ]
  },
  {
   "cell_type": "markdown",
   "id": "dcf3d553-03ba-47c3-a583-ca5e5a135195",
   "metadata": {},
   "source": [
    "**Objectives:**\n",
    "\n",
    "- List popular languages for Data Science  \n",
    "- Identify commonly used libraries in Data Science  \n",
    "- Understand data analysis and visualization techniques  \n",
    "- Learn about tools used in Data Science  \n"
   ]
  },
  {
   "cell_type": "markdown",
   "id": "e1ac36c8-c968-498a-be0f-f973d3e3339d",
   "metadata": {},
   "source": [
    "Some of the popular languages that Data Scientists use are:"
   ]
  },
  {
   "cell_type": "markdown",
   "id": "886aed60-8e9f-4f03-8d72-fcaf319ea103",
   "metadata": {},
   "source": [
    "1. Python\n",
    "2. R\n",
    "3. SQL\n",
    "4. Scala\n",
    "5. Java\n",
    "6. C++\n",
    "7. Julia\n",
    "8. Matlab\n",
    "9. SAS\n",
    "10. Go\n",
    "11. Rust\n",
    "12. Swift"
   ]
  },
  {
   "cell_type": "markdown",
   "id": "8c72a531-5b71-4587-8227-073ab066d991",
   "metadata": {},
   "source": [
    "Some of the commonly used libraries used by Data Scientists include:\n",
    "1. Pandas\n",
    "2. Numpy\n",
    "3. Matplotlib\n",
    "4. Seaborn\n",
    "5. Scikit-learn\n",
    "6. Scipy\n",
    "7. Tenser flow\n",
    "8. keras\n",
    "9. Pytorch\n",
    "10. plotly\n",
    "11. Apache Spark\n",
    "12. NLTK\n"
   ]
  },
  {
   "cell_type": "markdown",
   "id": "4ba9be1a-0598-4494-a490-86532e7c0bbe",
   "metadata": {},
   "source": [
    "| Data Science Tools |\n",
    "|---------|\n",
    "|1.Jupyter Notebook|\n",
    "|2.Zeppelin |\n",
    "|3.Apache Spark|\n",
    "|4.RStudio|\n",
    "|5.Anaconda|\n",
    "|6.Spyder|\n",
    "\n"
   ]
  },
  {
   "cell_type": "markdown",
   "id": "af46010b-0c6e-468b-a345-a0014e6dc539",
   "metadata": {},
   "source": [
    "<h3>Below are a few examples of evaluating arithmetic expressions in Python<h3>"
   ]
  },
  {
   "cell_type": "code",
   "execution_count": 2,
   "id": "5ea5e90b-466c-47ff-944f-da08279d5de9",
   "metadata": {},
   "outputs": [
    {
     "data": {
      "text/plain": [
       "17"
      ]
     },
     "execution_count": 2,
     "metadata": {},
     "output_type": "execute_result"
    }
   ],
   "source": [
    "# This is a simple arithmetic expression to multiply then add integers\n",
    "(3 * 4) + 5\n",
    "\n"
   ]
  },
  {
   "cell_type": "code",
   "execution_count": 3,
   "id": "0db5c135-2e29-4c67-971b-5b598365cd42",
   "metadata": {},
   "outputs": [
    {
     "data": {
      "text/plain": [
       "3.3333333333333335"
      ]
     },
     "execution_count": 3,
     "metadata": {},
     "output_type": "execute_result"
    }
   ],
   "source": [
    "# This will convert 200 minutes to hours by diving by 60\n",
    "200/60"
   ]
  },
  {
   "cell_type": "markdown",
   "id": "bfcac882-a1e4-4f1a-830b-d6f12a0efb7a",
   "metadata": {},
   "source": [
    "## Author\n",
    "John Doe\n"
   ]
  },
  {
   "cell_type": "code",
   "execution_count": null,
   "id": "a0aa856a-9454-46b4-ba80-22a26b225795",
   "metadata": {
    "editable": true,
    "slideshow": {
     "slide_type": ""
    },
    "tags": []
   },
   "outputs": [],
   "source": []
  }
 ],
 "metadata": {
  "kernelspec": {
   "display_name": "Python 3 (ipykernel)",
   "language": "python",
   "name": "python3"
  },
  "language_info": {
   "codemirror_mode": {
    "name": "ipython",
    "version": 3
   },
   "file_extension": ".py",
   "mimetype": "text/x-python",
   "name": "python",
   "nbconvert_exporter": "python",
   "pygments_lexer": "ipython3",
   "version": "3.12.8"
  }
 },
 "nbformat": 4,
 "nbformat_minor": 5
}
